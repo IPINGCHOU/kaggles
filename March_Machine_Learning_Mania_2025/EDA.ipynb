{
 "cells": [
  {
   "cell_type": "markdown",
   "metadata": {
    "application/vnd.databricks.v1+cell": {
     "cellMetadata": {},
     "inputWidgets": {},
     "nuid": "4ed97d3a-26e6-4a93-bdc7-4856ca55be5d",
     "showTitle": false,
     "tableResultSettingsMap": {},
     "title": ""
    }
   },
   "source": [
    "# Start"
   ]
  },
  {
   "cell_type": "code",
   "execution_count": 0,
   "metadata": {
    "application/vnd.databricks.v1+cell": {
     "cellMetadata": {
      "byteLimit": 2048000,
      "rowLimit": 10000
     },
     "inputWidgets": {},
     "nuid": "157f13ef-9938-4968-8e53-d74b33446b73",
     "showTitle": false,
     "tableResultSettingsMap": {},
     "title": ""
    }
   },
   "outputs": [],
   "source": [
    "# Essential Imports\n",
    "import numpy as np\n",
    "import pandas as pd\n",
    "import seaborn as sns\n",
    "import matplotlib.pyplot as plt\n",
    "from tqdm import tqdm\n",
    "import os\n",
    "import warnings\n",
    "\n",
    "# Niche Imports\n",
    "import chardet\n",
    "\n",
    "# Tools\n",
    "def load_csv(csv_file):\n",
    "    with open(csv_file, \"rb\") as f:\n",
    "        raw_data = f.read()\n",
    "        result = chardet.detect(raw_data)\n",
    "    \n",
    "    # print(result)  # Check detected encoding\n",
    "    df = pd.read_csv(csv_file, encoding=result[\"encoding\"])\n",
    "    return df"
   ]
  },
  {
   "cell_type": "code",
   "execution_count": 0,
   "metadata": {
    "application/vnd.databricks.v1+cell": {
     "cellMetadata": {
      "byteLimit": 2048000,
      "rowLimit": 10000
     },
     "inputWidgets": {},
     "nuid": "4e2eb10a-5a28-4b78-af1d-293ed3af432f",
     "showTitle": false,
     "tableResultSettingsMap": {},
     "title": ""
    }
   },
   "outputs": [],
   "source": [
    "comp_dir = '/Workspace/Repos/aeo-chiyou-ip@aeondic.onmicrosoft.com/kaggles/March_Machine_Learning_Mania_2025/data'\n",
    "mens_df = load_csv(os.path.join(comp_dir, 'MTeams.csv'))\n",
    "womens_df = load_csv(os.path.join(comp_dir, 'WTeams.csv'))\n",
    "for gender in ['Mens', 'Womens']:\n",
    "    print(f\"Investigating {gender} Team\")\n",
    "    if gender == 'Mens':\n",
    "        df = mens_df\n",
    "    else:\n",
    "        df = womens_df\n",
    "    display(df.describe())\n",
    "    display(df.head())"
   ]
  },
  {
   "cell_type": "markdown",
   "metadata": {
    "application/vnd.databricks.v1+cell": {
     "cellMetadata": {},
     "inputWidgets": {},
     "nuid": "b1c88477-3322-4207-bfcd-ba31ecc4eaa0",
     "showTitle": false,
     "tableResultSettingsMap": {},
     "title": ""
    }
   },
   "source": [
    "# Durations"
   ]
  },
  {
   "cell_type": "code",
   "execution_count": 0,
   "metadata": {
    "application/vnd.databricks.v1+cell": {
     "cellMetadata": {
      "byteLimit": 2048000,
      "rowLimit": 10000
     },
     "inputWidgets": {},
     "nuid": "316a83f2-716a-4642-8f32-cbf534b6b6c7",
     "showTitle": false,
     "tableResultSettingsMap": {},
     "title": ""
    }
   },
   "outputs": [],
   "source": [
    "# Plot the durations of each team\n",
    "for gender in ['Mens']:\n",
    "    print(f\"Investigating {gender} Team\")\n",
    "    df = load_csv(os.path.join(comp_dir, 'MTeams.csv'))\n",
    "\n",
    "    # Calculate the width of the bar\n",
    "    df['Widths'] = df['LastD1Season'] - df['FirstD1Season']\n",
    "    \n",
    "\n",
    "    # # Plot bars\n",
    "    fig, ax = plt.subplots(figsize=(15,60))\n",
    "    # ax.barh(df['TeamName'], df['Widths'], left=df['FirstD1Season'], color='blue', edgecolor='black')\n",
    "    # ax.invert_yaxis()\n",
    "    # # Labels and grid\n",
    "    # ax.set_xlabel(\"Value\")\n",
    "    # ax.set_ylabel(\"Bars\")\n",
    "    # ax.set_title(\"Horizontal Bars from Start to End Values\")\n",
    "    # ax.grid(axis='x', linestyle='--', alpha=0.7)\n",
    "    # plt.tight_layout()\n",
    "    \n",
    "    # plt.show()\n",
    "\n",
    "    sns.barplot(\n",
    "        data=df,\n",
    "        y=\"TeamName\",        # Y-axis (categorical variable)\n",
    "        x=\"Widths\",          # X-axis (bar length)\n",
    "        hue=None,            # No grouping\n",
    "        orient=\"h\",          # Horizontal bars\n",
    "        color=\"blue\",        # Bar color\n",
    "        edgecolor=\"black\",   # Border color\n",
    "        ax=ax                # Use the existing axis\n",
    "    )\n",
    "    # Offset each bar by the start\n",
    "    for i, (start, width) in enumerate(zip(df[\"FirstD1Season\"], df[\"Widths\"])):\n",
    "        ax.patches[i].set_x(start)  # Shift bar to start position\n",
    "    ax.set_xlim(df[\"FirstD1Season\"].min(), df[\"LastD1Season\"].max())  # Fit all bars correctly\n",
    "    # Show x-axis at the top as well\n",
    "    ax.xaxis.set_ticks_position(\"both\")  # Show ticks on both top and bottom\n",
    "    ax.xaxis.set_label_position(\"top\")   # Move x-axis label to the top\n",
    "    ax.tick_params(axis=\"x\", which=\"both\", labeltop=True, labelbottom=True)  # Show tick labels at the top\n",
    "    ax.spines[\"top\"].set_visible(True)   # Show the top spine (border)\n",
    "    ax.set_xlabel(\"\")\n",
    "    plt.title('Durations of Mens NCAA Teams')\n",
    "    plt.show()"
   ]
  }
 ],
 "metadata": {
  "application/vnd.databricks.v1+notebook": {
   "computePreferences": null,
   "dashboards": [],
   "environmentMetadata": {
    "base_environment": "",
    "environment_version": "2"
   },
   "language": "python",
   "notebookMetadata": {
    "pythonIndentUnit": 4
   },
   "notebookName": "EDA",
   "widgets": {}
  },
  "language_info": {
   "name": "python"
  }
 },
 "nbformat": 4,
 "nbformat_minor": 0
}
